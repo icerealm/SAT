{
 "cells": [
  {
   "cell_type": "markdown",
   "metadata": {},
   "source": [
    "# Import modules"
   ]
  },
  {
   "cell_type": "code",
   "execution_count": 280,
   "metadata": {},
   "outputs": [],
   "source": [
    "import matplotlib.pyplot as plt\n",
    "import numpy as np\n",
    "import pandas as pd\n"
   ]
  },
  {
   "cell_type": "markdown",
   "metadata": {},
   "source": [
    "# Read data source file"
   ]
  },
  {
   "cell_type": "code",
   "execution_count": 281,
   "metadata": {},
   "outputs": [
    {
     "data": {
      "text/html": [
       "<div>\n",
       "<style scoped>\n",
       "    .dataframe tbody tr th:only-of-type {\n",
       "        vertical-align: middle;\n",
       "    }\n",
       "\n",
       "    .dataframe tbody tr th {\n",
       "        vertical-align: top;\n",
       "    }\n",
       "\n",
       "    .dataframe thead th {\n",
       "        text-align: right;\n",
       "    }\n",
       "</style>\n",
       "<table border=\"1\" class=\"dataframe\">\n",
       "  <thead>\n",
       "    <tr style=\"text-align: right;\">\n",
       "      <th></th>\n",
       "      <th>State</th>\n",
       "      <th>SAT</th>\n",
       "      <th>Takers</th>\n",
       "      <th>Income</th>\n",
       "      <th>Years</th>\n",
       "      <th>Public</th>\n",
       "      <th>Expend</th>\n",
       "      <th>Rank</th>\n",
       "    </tr>\n",
       "  </thead>\n",
       "  <tbody>\n",
       "    <tr>\n",
       "      <th>0</th>\n",
       "      <td>Iowa</td>\n",
       "      <td>1088</td>\n",
       "      <td>3</td>\n",
       "      <td>326</td>\n",
       "      <td>16.79</td>\n",
       "      <td>87.8</td>\n",
       "      <td>25.60</td>\n",
       "      <td>89.7</td>\n",
       "    </tr>\n",
       "    <tr>\n",
       "      <th>1</th>\n",
       "      <td>SouthDakota</td>\n",
       "      <td>1075</td>\n",
       "      <td>2</td>\n",
       "      <td>264</td>\n",
       "      <td>16.07</td>\n",
       "      <td>86.2</td>\n",
       "      <td>19.95</td>\n",
       "      <td>90.6</td>\n",
       "    </tr>\n",
       "    <tr>\n",
       "      <th>2</th>\n",
       "      <td>NorthDakota</td>\n",
       "      <td>1068</td>\n",
       "      <td>3</td>\n",
       "      <td>317</td>\n",
       "      <td>16.57</td>\n",
       "      <td>88.3</td>\n",
       "      <td>20.62</td>\n",
       "      <td>89.8</td>\n",
       "    </tr>\n",
       "    <tr>\n",
       "      <th>3</th>\n",
       "      <td>Kansas</td>\n",
       "      <td>1045</td>\n",
       "      <td>5</td>\n",
       "      <td>338</td>\n",
       "      <td>16.30</td>\n",
       "      <td>83.9</td>\n",
       "      <td>27.14</td>\n",
       "      <td>86.3</td>\n",
       "    </tr>\n",
       "    <tr>\n",
       "      <th>4</th>\n",
       "      <td>Nebraska</td>\n",
       "      <td>1045</td>\n",
       "      <td>5</td>\n",
       "      <td>293</td>\n",
       "      <td>17.25</td>\n",
       "      <td>83.6</td>\n",
       "      <td>21.05</td>\n",
       "      <td>88.5</td>\n",
       "    </tr>\n",
       "    <tr>\n",
       "      <th>5</th>\n",
       "      <td>Montana</td>\n",
       "      <td>1033</td>\n",
       "      <td>8</td>\n",
       "      <td>263</td>\n",
       "      <td>15.91</td>\n",
       "      <td>93.7</td>\n",
       "      <td>29.48</td>\n",
       "      <td>86.4</td>\n",
       "    </tr>\n",
       "    <tr>\n",
       "      <th>6</th>\n",
       "      <td>Minnesota</td>\n",
       "      <td>1028</td>\n",
       "      <td>7</td>\n",
       "      <td>343</td>\n",
       "      <td>17.41</td>\n",
       "      <td>78.3</td>\n",
       "      <td>24.84</td>\n",
       "      <td>83.4</td>\n",
       "    </tr>\n",
       "    <tr>\n",
       "      <th>7</th>\n",
       "      <td>Utah</td>\n",
       "      <td>1022</td>\n",
       "      <td>4</td>\n",
       "      <td>333</td>\n",
       "      <td>16.57</td>\n",
       "      <td>75.2</td>\n",
       "      <td>17.42</td>\n",
       "      <td>85.9</td>\n",
       "    </tr>\n",
       "  </tbody>\n",
       "</table>\n",
       "</div>"
      ],
      "text/plain": [
       "         State   SAT  Takers  Income  Years  Public  Expend  Rank\n",
       "0         Iowa  1088       3     326  16.79    87.8   25.60  89.7\n",
       "1  SouthDakota  1075       2     264  16.07    86.2   19.95  90.6\n",
       "2  NorthDakota  1068       3     317  16.57    88.3   20.62  89.8\n",
       "3       Kansas  1045       5     338  16.30    83.9   27.14  86.3\n",
       "4     Nebraska  1045       5     293  17.25    83.6   21.05  88.5\n",
       "5      Montana  1033       8     263  15.91    93.7   29.48  86.4\n",
       "6    Minnesota  1028       7     343  17.41    78.3   24.84  83.4\n",
       "7         Utah  1022       4     333  16.57    75.2   17.42  85.9"
      ]
     },
     "execution_count": 281,
     "metadata": {},
     "output_type": "execute_result"
    }
   ],
   "source": [
    "\n",
    "df = pd.read_csv(\"./case1201.csv\")\n",
    "df.head(8)"
   ]
  },
  {
   "cell_type": "markdown",
   "metadata": {},
   "source": [
    "# Check information"
   ]
  },
  {
   "cell_type": "code",
   "execution_count": 282,
   "metadata": {},
   "outputs": [
    {
     "name": "stdout",
     "output_type": "stream",
     "text": [
      "<class 'pandas.core.frame.DataFrame'>\n",
      "RangeIndex: 50 entries, 0 to 49\n",
      "Data columns (total 8 columns):\n",
      "State     50 non-null object\n",
      "SAT       50 non-null int64\n",
      "Takers    50 non-null int64\n",
      "Income    50 non-null int64\n",
      "Years     50 non-null float64\n",
      "Public    50 non-null float64\n",
      "Expend    50 non-null float64\n",
      "Rank      50 non-null float64\n",
      "dtypes: float64(4), int64(3), object(1)\n",
      "memory usage: 3.2+ KB\n"
     ]
    }
   ],
   "source": [
    "df.info()"
   ]
  },
  {
   "cell_type": "code",
   "execution_count": 283,
   "metadata": {},
   "outputs": [
    {
     "data": {
      "text/plain": [
       "(8, 50)"
      ]
     },
     "execution_count": 283,
     "metadata": {},
     "output_type": "execute_result"
    }
   ],
   "source": [
    "total_records, column_len = df.shape\n",
    "(column_len, total_records)"
   ]
  },
  {
   "cell_type": "code",
   "execution_count": 284,
   "metadata": {},
   "outputs": [
    {
     "data": {
      "text/html": [
       "<div>\n",
       "<style scoped>\n",
       "    .dataframe tbody tr th:only-of-type {\n",
       "        vertical-align: middle;\n",
       "    }\n",
       "\n",
       "    .dataframe tbody tr th {\n",
       "        vertical-align: top;\n",
       "    }\n",
       "\n",
       "    .dataframe thead th {\n",
       "        text-align: right;\n",
       "    }\n",
       "</style>\n",
       "<table border=\"1\" class=\"dataframe\">\n",
       "  <thead>\n",
       "    <tr style=\"text-align: right;\">\n",
       "      <th></th>\n",
       "      <th>SAT</th>\n",
       "      <th>Takers</th>\n",
       "      <th>Income</th>\n",
       "      <th>Years</th>\n",
       "      <th>Public</th>\n",
       "      <th>Expend</th>\n",
       "      <th>Rank</th>\n",
       "    </tr>\n",
       "  </thead>\n",
       "  <tbody>\n",
       "    <tr>\n",
       "      <th>count</th>\n",
       "      <td>50.000000</td>\n",
       "      <td>50.000000</td>\n",
       "      <td>50.000000</td>\n",
       "      <td>50.000000</td>\n",
       "      <td>50.000000</td>\n",
       "      <td>50.000000</td>\n",
       "      <td>50.000000</td>\n",
       "    </tr>\n",
       "    <tr>\n",
       "      <th>mean</th>\n",
       "      <td>947.940000</td>\n",
       "      <td>26.220000</td>\n",
       "      <td>293.980000</td>\n",
       "      <td>16.209200</td>\n",
       "      <td>81.204000</td>\n",
       "      <td>22.965600</td>\n",
       "      <td>79.988000</td>\n",
       "    </tr>\n",
       "    <tr>\n",
       "      <th>std</th>\n",
       "      <td>70.856397</td>\n",
       "      <td>22.022521</td>\n",
       "      <td>43.693034</td>\n",
       "      <td>0.699982</td>\n",
       "      <td>9.830917</td>\n",
       "      <td>6.144932</td>\n",
       "      <td>6.523072</td>\n",
       "    </tr>\n",
       "    <tr>\n",
       "      <th>min</th>\n",
       "      <td>790.000000</td>\n",
       "      <td>2.000000</td>\n",
       "      <td>208.000000</td>\n",
       "      <td>14.390000</td>\n",
       "      <td>44.800000</td>\n",
       "      <td>13.840000</td>\n",
       "      <td>69.800000</td>\n",
       "    </tr>\n",
       "    <tr>\n",
       "      <th>25%</th>\n",
       "      <td>889.250000</td>\n",
       "      <td>6.250000</td>\n",
       "      <td>261.500000</td>\n",
       "      <td>15.910000</td>\n",
       "      <td>76.925000</td>\n",
       "      <td>19.592500</td>\n",
       "      <td>74.025000</td>\n",
       "    </tr>\n",
       "    <tr>\n",
       "      <th>50%</th>\n",
       "      <td>966.000000</td>\n",
       "      <td>16.000000</td>\n",
       "      <td>295.000000</td>\n",
       "      <td>16.360000</td>\n",
       "      <td>80.800000</td>\n",
       "      <td>21.610000</td>\n",
       "      <td>80.850000</td>\n",
       "    </tr>\n",
       "    <tr>\n",
       "      <th>75%</th>\n",
       "      <td>998.500000</td>\n",
       "      <td>47.750000</td>\n",
       "      <td>325.000000</td>\n",
       "      <td>16.757500</td>\n",
       "      <td>88.250000</td>\n",
       "      <td>26.387500</td>\n",
       "      <td>85.825000</td>\n",
       "    </tr>\n",
       "    <tr>\n",
       "      <th>max</th>\n",
       "      <td>1088.000000</td>\n",
       "      <td>69.000000</td>\n",
       "      <td>401.000000</td>\n",
       "      <td>17.410000</td>\n",
       "      <td>97.000000</td>\n",
       "      <td>50.100000</td>\n",
       "      <td>90.600000</td>\n",
       "    </tr>\n",
       "  </tbody>\n",
       "</table>\n",
       "</div>"
      ],
      "text/plain": [
       "               SAT     Takers      Income      Years     Public     Expend  \\\n",
       "count    50.000000  50.000000   50.000000  50.000000  50.000000  50.000000   \n",
       "mean    947.940000  26.220000  293.980000  16.209200  81.204000  22.965600   \n",
       "std      70.856397  22.022521   43.693034   0.699982   9.830917   6.144932   \n",
       "min     790.000000   2.000000  208.000000  14.390000  44.800000  13.840000   \n",
       "25%     889.250000   6.250000  261.500000  15.910000  76.925000  19.592500   \n",
       "50%     966.000000  16.000000  295.000000  16.360000  80.800000  21.610000   \n",
       "75%     998.500000  47.750000  325.000000  16.757500  88.250000  26.387500   \n",
       "max    1088.000000  69.000000  401.000000  17.410000  97.000000  50.100000   \n",
       "\n",
       "            Rank  \n",
       "count  50.000000  \n",
       "mean   79.988000  \n",
       "std     6.523072  \n",
       "min    69.800000  \n",
       "25%    74.025000  \n",
       "50%    80.850000  \n",
       "75%    85.825000  \n",
       "max    90.600000  "
      ]
     },
     "execution_count": 284,
     "metadata": {},
     "output_type": "execute_result"
    }
   ],
   "source": [
    "df.describe()"
   ]
  },
  {
   "cell_type": "code",
   "execution_count": 285,
   "metadata": {},
   "outputs": [
    {
     "data": {
      "text/plain": [
       "False"
      ]
     },
     "execution_count": 285,
     "metadata": {},
     "output_type": "execute_result"
    }
   ],
   "source": [
    "## null checking\n",
    "df.isnull().any().any()"
   ]
  },
  {
   "cell_type": "markdown",
   "metadata": {},
   "source": [
    "# Check tied values"
   ]
  },
  {
   "cell_type": "code",
   "execution_count": 298,
   "metadata": {},
   "outputs": [],
   "source": [
    "def show_count(grouped, threshold):\n",
    "    dg = grouped.size().to_frame('count')\n",
    "    print(dg[dg['count'] > threshold])"
   ]
  },
  {
   "cell_type": "code",
   "execution_count": 301,
   "metadata": {},
   "outputs": [
    {
     "name": "stdout",
     "output_type": "stream",
     "text": [
      "        count\n",
      "Takers       \n",
      "3           3\n",
      "4           2\n",
      "5           5\n",
      "6           2\n",
      "7           3\n",
      "8           2\n",
      "10          3\n",
      "16          2\n",
      "47          2\n",
      "48          2\n",
      "50          2\n",
      "59          2\n"
     ]
    }
   ],
   "source": [
    "show_count(df[['Takers']].groupby(['Takers']), 1)"
   ]
  },
  {
   "cell_type": "code",
   "execution_count": 302,
   "metadata": {},
   "outputs": [
    {
     "name": "stdout",
     "output_type": "stream",
     "text": [
      "        count\n",
      "Public       \n",
      "67.9        2\n",
      "80.4        2\n",
      "80.7        2\n",
      "88.3        2\n",
      "92.1        2\n"
     ]
    }
   ],
   "source": [
    "show_count(df[['Public']].groupby(['Public']), 1)"
   ]
  },
  {
   "cell_type": "code",
   "execution_count": 303,
   "metadata": {},
   "outputs": [
    {
     "name": "stdout",
     "output_type": "stream",
     "text": [
      "Empty DataFrame\n",
      "Columns: [count]\n",
      "Index: []\n"
     ]
    }
   ],
   "source": [
    "show_count(df[['Expend']].groupby(['Expend']), 1)"
   ]
  },
  {
   "cell_type": "code",
   "execution_count": 304,
   "metadata": {},
   "outputs": [
    {
     "name": "stdout",
     "output_type": "stream",
     "text": [
      "      count\n",
      "Rank       \n",
      "69.8      2\n",
      "69.9      2\n",
      "71.4      2\n",
      "74.0      2\n",
      "74.6      2\n",
      "81.8      2\n",
      "83.4      2\n",
      "85.9      2\n",
      "86.4      2\n"
     ]
    }
   ],
   "source": [
    "show_count(df[['Rank']].groupby(['Rank']), 1)"
   ]
  },
  {
   "cell_type": "markdown",
   "metadata": {},
   "source": [
    "# Normal distribution checking"
   ]
  },
  {
   "cell_type": "code",
   "execution_count": 144,
   "metadata": {},
   "outputs": [],
   "source": [
    "from scipy.stats import shapiro\n",
    "from scipy.stats import normaltest\n",
    "from statsmodels.graphics.gofplots import qqplot\n",
    "\n",
    "SAT = df['SAT']\n",
    "Takers = df['Takers']\n",
    "Income = df['Income']\n",
    "Years = df['Years']\n",
    "Public = df['Public']\n",
    "Expend = df['Expend']\n",
    "Rank = df['Rank']\n",
    "\n",
    "\n",
    "def interpret(sig_level, p_value):\n",
    "    if p > sig_level:\n",
    "        print('Sample looks Gaussian (fail to reject H0)')\n",
    "    else:\n",
    "        print('Sample does not look Gaussian (reject H0)')\n",
    "\n"
   ]
  },
  {
   "cell_type": "markdown",
   "metadata": {},
   "source": [
    "### SAT"
   ]
  },
  {
   "cell_type": "code",
   "execution_count": 145,
   "metadata": {},
   "outputs": [
    {
     "data": {
      "text/plain": [
       "(array([  1.,   2.,   5.,  12.,   3.,   3.,  11.,   7.,   3.,   3.]),\n",
       " array([  790. ,   819.8,   849.6,   879.4,   909.2,   939. ,   968.8,\n",
       "          998.6,  1028.4,  1058.2,  1088. ]),\n",
       " <a list of 10 Patch objects>)"
      ]
     },
     "execution_count": 145,
     "metadata": {},
     "output_type": "execute_result"
    },
    {
     "data": {
      "image/png": "[encoded data removed]",
      "text/plain": [
       "<Figure size 432x288 with 1 Axes>"
      ]
     },
     "metadata": {},
     "output_type": "display_data"
    }
   ],
   "source": [
    "## histogram plot\n",
    "plt.hist(SAT)"
   ]
  },
  {
   "cell_type": "code",
   "execution_count": 146,
   "metadata": {},
   "outputs": [
    {
     "data": {
      "image/png": "[encoded data removed]",
      "text/plain": [
       "<Figure size 432x288 with 1 Axes>"
      ]
     },
     "metadata": {},
     "output_type": "display_data"
    }
   ],
   "source": [
    "## Quantile-Quantile plot\n",
    "qqplot(SAT, line='s')\n",
    "plt.show()"
   ]
  },
  {
   "cell_type": "code",
   "execution_count": 147,
   "metadata": {},
   "outputs": [
    {
     "name": "stdout",
     "output_type": "stream",
     "text": [
      "Statistics=0.969, p=0.218\n"
     ]
    }
   ],
   "source": [
    "## using Shapiro-Wilk Test\n",
    "stat, p = shapiro(SAT)\n",
    "print('Statistics=%.3f, p=%.3f' % (stat, p))"
   ]
  },
  {
   "cell_type": "code",
   "execution_count": 148,
   "metadata": {},
   "outputs": [
    {
     "name": "stdout",
     "output_type": "stream",
     "text": [
      "Sample looks Gaussian (fail to reject H0)\n"
     ]
    }
   ],
   "source": [
    "# Adopt h1 if p more than 0.05 significance level.\n",
    "interpret(0.05, p)"
   ]
  },
  {
   "cell_type": "code",
   "execution_count": 149,
   "metadata": {},
   "outputs": [
    {
     "name": "stdout",
     "output_type": "stream",
     "text": [
      "Statistics=2.270, p=0.321\n"
     ]
    }
   ],
   "source": [
    "## D’Agostino’s K^2 Test\n",
    "stat, p = normaltest(SAT)\n",
    "print('Statistics=%.3f, p=%.3f' % (stat, p))"
   ]
  },
  {
   "cell_type": "code",
   "execution_count": 150,
   "metadata": {},
   "outputs": [
    {
     "name": "stdout",
     "output_type": "stream",
     "text": [
      "Sample looks Gaussian (fail to reject H0)\n"
     ]
    }
   ],
   "source": [
    "# Adopt h1 if p more than 0.05 significance level.\n",
    "interpret(0.05, p)"
   ]
  },
  {
   "cell_type": "markdown",
   "metadata": {},
   "source": [
    "### Takers"
   ]
  },
  {
   "cell_type": "code",
   "execution_count": 151,
   "metadata": {},
   "outputs": [
    {
     "data": {
      "text/plain": [
       "(array([ 18.,   6.,   4.,   0.,   2.,   4.,   5.,   5.,   3.,   3.]),\n",
       " array([  2. ,   8.7,  15.4,  22.1,  28.8,  35.5,  42.2,  48.9,  55.6,\n",
       "         62.3,  69. ]),\n",
       " <a list of 10 Patch objects>)"
      ]
     },
     "execution_count": 151,
     "metadata": {},
     "output_type": "execute_result"
    },
    {
     "data": {
      "image/png": "[encoded data removed]",
      "text/plain": [
       "<Figure size 432x288 with 1 Axes>"
      ]
     },
     "metadata": {},
     "output_type": "display_data"
    }
   ],
   "source": [
    "## histogram plot\n",
    "plt.hist(Takers)"
   ]
  },
  {
   "cell_type": "code",
   "execution_count": 152,
   "metadata": {},
   "outputs": [
    {
     "data": {
      "image/png": "[encoded data removed]",
      "text/plain": [
       "<Figure size 432x288 with 1 Axes>"
      ]
     },
     "metadata": {},
     "output_type": "display_data"
    }
   ],
   "source": [
    "## Quantile-Quantile plot\n",
    "qqplot(Takers, line='s')\n",
    "plt.show()"
   ]
  },
  {
   "cell_type": "code",
   "execution_count": 153,
   "metadata": {},
   "outputs": [
    {
     "name": "stdout",
     "output_type": "stream",
     "text": [
      "Statistics=0.849, p=0.000\n"
     ]
    }
   ],
   "source": [
    "## using Shapiro-Wilk Test\n",
    "stat, p = shapiro(Takers)\n",
    "print('Statistics=%.3f, p=%.3f' % (stat, p))"
   ]
  },
  {
   "cell_type": "code",
   "execution_count": 154,
   "metadata": {},
   "outputs": [
    {
     "name": "stdout",
     "output_type": "stream",
     "text": [
      "Sample does not look Gaussian (reject H0)\n"
     ]
    }
   ],
   "source": [
    "# Adopt h1 if p more than 0.05 significance level.\n",
    "interpret(0.05, p)"
   ]
  },
  {
   "cell_type": "code",
   "execution_count": 155,
   "metadata": {},
   "outputs": [
    {
     "name": "stdout",
     "output_type": "stream",
     "text": [
      "Statistics=29.385, p=0.000\n"
     ]
    }
   ],
   "source": [
    "## D’Agostino’s K^2 Test\n",
    "stat, p = normaltest(Takers)\n",
    "print('Statistics=%.3f, p=%.3f' % (stat, p))"
   ]
  },
  {
   "cell_type": "code",
   "execution_count": 156,
   "metadata": {},
   "outputs": [
    {
     "name": "stdout",
     "output_type": "stream",
     "text": [
      "Sample does not look Gaussian (reject H0)\n"
     ]
    }
   ],
   "source": [
    "# Adopt h1 if p more than 0.05 significance level.\n",
    "interpret(0.05, p)"
   ]
  },
  {
   "cell_type": "markdown",
   "metadata": {},
   "source": [
    "### Income"
   ]
  },
  {
   "cell_type": "code",
   "execution_count": 157,
   "metadata": {},
   "outputs": [
    {
     "data": {
      "text/plain": [
       "(array([ 4.,  4.,  7.,  4.,  9.,  9.,  9.,  2.,  0.,  2.]),\n",
       " array([ 208. ,  227.3,  246.6,  265.9,  285.2,  304.5,  323.8,  343.1,\n",
       "         362.4,  381.7,  401. ]),\n",
       " <a list of 10 Patch objects>)"
      ]
     },
     "execution_count": 157,
     "metadata": {},
     "output_type": "execute_result"
    },
    {
     "data": {
      "image/png": "[encoded data removed]",
      "text/plain": [
       "<Figure size 432x288 with 1 Axes>"
      ]
     },
     "metadata": {},
     "output_type": "display_data"
    }
   ],
   "source": [
    "## histogram plot\n",
    "plt.hist(Income)"
   ]
  },
  {
   "cell_type": "code",
   "execution_count": 158,
   "metadata": {},
   "outputs": [
    {
     "data": {
      "image/png": "[encoded data removed]",
      "text/plain": [
       "<Figure size 432x288 with 1 Axes>"
      ]
     },
     "metadata": {},
     "output_type": "display_data"
    }
   ],
   "source": [
    "## Quantile-Quantile plot\n",
    "qqplot(Income, line='s')\n",
    "plt.show()"
   ]
  },
  {
   "cell_type": "code",
   "execution_count": 159,
   "metadata": {},
   "outputs": [
    {
     "name": "stdout",
     "output_type": "stream",
     "text": [
      "Statistics=0.980, p=0.560\n"
     ]
    }
   ],
   "source": [
    "## using Shapiro-Wilk Test\n",
    "stat, p = shapiro(Income)\n",
    "print('Statistics=%.3f, p=%.3f' % (stat, p))"
   ]
  },
  {
   "cell_type": "code",
   "execution_count": 160,
   "metadata": {},
   "outputs": [
    {
     "name": "stdout",
     "output_type": "stream",
     "text": [
      "Sample looks Gaussian (fail to reject H0)\n"
     ]
    }
   ],
   "source": [
    "# Adopt h1 if p more than 0.05 significance level.\n",
    "interpret(0.05, p)"
   ]
  },
  {
   "cell_type": "code",
   "execution_count": 161,
   "metadata": {},
   "outputs": [
    {
     "name": "stdout",
     "output_type": "stream",
     "text": [
      "Statistics=0.061, p=0.970\n"
     ]
    }
   ],
   "source": [
    "## D’Agostino’s K^2 Test\n",
    "stat, p = normaltest(Income)\n",
    "print('Statistics=%.3f, p=%.3f' % (stat, p))"
   ]
  },
  {
   "cell_type": "code",
   "execution_count": 162,
   "metadata": {},
   "outputs": [
    {
     "name": "stdout",
     "output_type": "stream",
     "text": [
      "Sample looks Gaussian (fail to reject H0)\n"
     ]
    }
   ],
   "source": [
    "# Adopt h1 if p more than 0.05 significance level.\n",
    "interpret(0.05, p)"
   ]
  },
  {
   "cell_type": "markdown",
   "metadata": {},
   "source": [
    "### Years"
   ]
  },
  {
   "cell_type": "code",
   "execution_count": 163,
   "metadata": {},
   "outputs": [
    {
     "data": {
      "text/plain": [
       "(array([  2.,   2.,   0.,   6.,   2.,  10.,   9.,   9.,   7.,   3.]),\n",
       " array([ 14.39 ,  14.692,  14.994,  15.296,  15.598,  15.9  ,  16.202,\n",
       "         16.504,  16.806,  17.108,  17.41 ]),\n",
       " <a list of 10 Patch objects>)"
      ]
     },
     "execution_count": 163,
     "metadata": {},
     "output_type": "execute_result"
    },
    {
     "data": {
      "image/png": "[encoded data removed]",
      "text/plain": [
       "<Figure size 432x288 with 1 Axes>"
      ]
     },
     "metadata": {},
     "output_type": "display_data"
    }
   ],
   "source": [
    "## histogram plot\n",
    "plt.hist(Years)"
   ]
  },
  {
   "cell_type": "code",
   "execution_count": 164,
   "metadata": {},
   "outputs": [
    {
     "data": {
      "image/png": "[encoded data removed]",
      "text/plain": [
       "<Figure size 432x288 with 1 Axes>"
      ]
     },
     "metadata": {},
     "output_type": "display_data"
    }
   ],
   "source": [
    "## Quantile-Quantile plot\n",
    "qqplot(Years, line='s')\n",
    "plt.show()"
   ]
  },
  {
   "cell_type": "code",
   "execution_count": 165,
   "metadata": {},
   "outputs": [
    {
     "name": "stdout",
     "output_type": "stream",
     "text": [
      "Statistics=0.954, p=0.052\n"
     ]
    }
   ],
   "source": [
    "## using Shapiro-Wilk Test\n",
    "stat, p = shapiro(Years)\n",
    "print('Statistics=%.3f, p=%.3f' % (stat, p))"
   ]
  },
  {
   "cell_type": "code",
   "execution_count": 166,
   "metadata": {},
   "outputs": [
    {
     "name": "stdout",
     "output_type": "stream",
     "text": [
      "Sample looks Gaussian (fail to reject H0)\n"
     ]
    }
   ],
   "source": [
    "# Adopt h1 if p more than 0.05 significance level.\n",
    "interpret(0.05, p)"
   ]
  },
  {
   "cell_type": "code",
   "execution_count": 167,
   "metadata": {},
   "outputs": [
    {
     "name": "stdout",
     "output_type": "stream",
     "text": [
      "Statistics=5.155, p=0.076\n"
     ]
    }
   ],
   "source": [
    "## D’Agostino’s K^2 Test\n",
    "stat, p = normaltest(Years)\n",
    "print('Statistics=%.3f, p=%.3f' % (stat, p))"
   ]
  },
  {
   "cell_type": "code",
   "execution_count": 168,
   "metadata": {},
   "outputs": [
    {
     "name": "stdout",
     "output_type": "stream",
     "text": [
      "Sample looks Gaussian (fail to reject H0)\n"
     ]
    }
   ],
   "source": [
    "# Adopt h1 if p more than 0.05 significance level.\n",
    "interpret(0.05, p)"
   ]
  },
  {
   "cell_type": "markdown",
   "metadata": {},
   "source": [
    "### Public"
   ]
  },
  {
   "cell_type": "code",
   "execution_count": 169,
   "metadata": {},
   "outputs": [
    {
     "data": {
      "text/plain": [
       "(array([  1.,   0.,   0.,   1.,   5.,   5.,  14.,   8.,  10.,   6.]),\n",
       " array([ 44.8 ,  50.02,  55.24,  60.46,  65.68,  70.9 ,  76.12,  81.34,\n",
       "         86.56,  91.78,  97.  ]),\n",
       " <a list of 10 Patch objects>)"
      ]
     },
     "execution_count": 169,
     "metadata": {},
     "output_type": "execute_result"
    },
    {
     "data": {
      "image/png": "[encoded data removed]",
      "text/plain": [
       "<Figure size 432x288 with 1 Axes>"
      ]
     },
     "metadata": {},
     "output_type": "display_data"
    }
   ],
   "source": [
    "## histogram plot\n",
    "plt.hist(Public)"
   ]
  },
  {
   "cell_type": "code",
   "execution_count": 170,
   "metadata": {},
   "outputs": [
    {
     "data": {
      "image/png": "[encoded data removed]",
      "text/plain": [
       "<Figure size 432x288 with 1 Axes>"
      ]
     },
     "metadata": {},
     "output_type": "display_data"
    }
   ],
   "source": [
    "## Quantile-Quantile plot\n",
    "qqplot(Public, line='s')\n",
    "plt.show()"
   ]
  },
  {
   "cell_type": "code",
   "execution_count": 171,
   "metadata": {},
   "outputs": [
    {
     "name": "stdout",
     "output_type": "stream",
     "text": [
      "Statistics=0.933, p=0.007\n"
     ]
    }
   ],
   "source": [
    "## using Shapiro-Wilk Test\n",
    "stat, p = shapiro(Public)\n",
    "print('Statistics=%.3f, p=%.3f' % (stat, p))"
   ]
  },
  {
   "cell_type": "code",
   "execution_count": 172,
   "metadata": {},
   "outputs": [
    {
     "name": "stdout",
     "output_type": "stream",
     "text": [
      "Sample does not look Gaussian (reject H0)\n"
     ]
    }
   ],
   "source": [
    "# Adopt h1 if p more than 0.05 significance level.\n",
    "interpret(0.05, p)"
   ]
  },
  {
   "cell_type": "code",
   "execution_count": 173,
   "metadata": {},
   "outputs": [
    {
     "name": "stdout",
     "output_type": "stream",
     "text": [
      "Statistics=15.732, p=0.000\n"
     ]
    }
   ],
   "source": [
    "## D’Agostino’s K^2 Test\n",
    "stat, p = normaltest(Public)\n",
    "print('Statistics=%.3f, p=%.3f' % (stat, p))"
   ]
  },
  {
   "cell_type": "code",
   "execution_count": 174,
   "metadata": {},
   "outputs": [
    {
     "name": "stdout",
     "output_type": "stream",
     "text": [
      "Sample does not look Gaussian (reject H0)\n"
     ]
    }
   ],
   "source": [
    "# Adopt h1 if p more than 0.05 significance level.\n",
    "interpret(0.05, p)"
   ]
  },
  {
   "cell_type": "markdown",
   "metadata": {},
   "source": [
    "### Expend"
   ]
  },
  {
   "cell_type": "code",
   "execution_count": 175,
   "metadata": {},
   "outputs": [
    {
     "data": {
      "text/plain": [
       "(array([  8.,  15.,   8.,  14.,   3.,   1.,   0.,   0.,   0.,   1.]),\n",
       " array([ 13.84 ,  17.466,  21.092,  24.718,  28.344,  31.97 ,  35.596,\n",
       "         39.222,  42.848,  46.474,  50.1  ]),\n",
       " <a list of 10 Patch objects>)"
      ]
     },
     "execution_count": 175,
     "metadata": {},
     "output_type": "execute_result"
    },
    {
     "data": {
      "image/png": "[encoded data removed]",
      "text/plain": [
       "<Figure size 432x288 with 1 Axes>"
      ]
     },
     "metadata": {},
     "output_type": "display_data"
    }
   ],
   "source": [
    "## histogram plot\n",
    "plt.hist(Expend)"
   ]
  },
  {
   "cell_type": "code",
   "execution_count": 176,
   "metadata": {},
   "outputs": [
    {
     "data": {
      "image/png": "[encoded data removed]",
      "text/plain": [
       "<Figure size 432x288 with 1 Axes>"
      ]
     },
     "metadata": {},
     "output_type": "display_data"
    }
   ],
   "source": [
    "## Quantile-Quantile plot\n",
    "qqplot(Expend, line='s')\n",
    "plt.show()"
   ]
  },
  {
   "cell_type": "code",
   "execution_count": 177,
   "metadata": {},
   "outputs": [
    {
     "name": "stdout",
     "output_type": "stream",
     "text": [
      "Statistics=0.874, p=0.000\n"
     ]
    }
   ],
   "source": [
    "## using Shapiro-Wilk Test\n",
    "stat, p = shapiro(Expend)\n",
    "print('Statistics=%.3f, p=%.3f' % (stat, p))"
   ]
  },
  {
   "cell_type": "code",
   "execution_count": 178,
   "metadata": {},
   "outputs": [
    {
     "name": "stdout",
     "output_type": "stream",
     "text": [
      "Sample does not look Gaussian (reject H0)\n"
     ]
    }
   ],
   "source": [
    "# Adopt h1 if p more than 0.05 significance level.\n",
    "interpret(0.05, p)"
   ]
  },
  {
   "cell_type": "code",
   "execution_count": 179,
   "metadata": {},
   "outputs": [
    {
     "name": "stdout",
     "output_type": "stream",
     "text": [
      "Statistics=32.448, p=0.000\n"
     ]
    }
   ],
   "source": [
    "## D’Agostino’s K^2 Test\n",
    "stat, p = normaltest(Expend)\n",
    "print('Statistics=%.3f, p=%.3f' % (stat, p))"
   ]
  },
  {
   "cell_type": "code",
   "execution_count": 180,
   "metadata": {},
   "outputs": [
    {
     "name": "stdout",
     "output_type": "stream",
     "text": [
      "Sample does not look Gaussian (reject H0)\n"
     ]
    }
   ],
   "source": [
    "# Adopt h1 if p more than 0.05 significance level.\n",
    "interpret(0.05, p)"
   ]
  },
  {
   "cell_type": "markdown",
   "metadata": {},
   "source": [
    "### Rank"
   ]
  },
  {
   "cell_type": "code",
   "execution_count": 181,
   "metadata": {},
   "outputs": [
    {
     "data": {
      "text/plain": [
       "(array([ 8.,  3.,  7.,  2.,  4.,  4.,  8.,  7.,  2.,  5.]),\n",
       " array([ 69.8 ,  71.88,  73.96,  76.04,  78.12,  80.2 ,  82.28,  84.36,\n",
       "         86.44,  88.52,  90.6 ]),\n",
       " <a list of 10 Patch objects>)"
      ]
     },
     "execution_count": 181,
     "metadata": {},
     "output_type": "execute_result"
    },
    {
     "data": {
      "image/png": "[encoded data removed]",
      "text/plain": [
       "<Figure size 432x288 with 1 Axes>"
      ]
     },
     "metadata": {},
     "output_type": "display_data"
    }
   ],
   "source": [
    "## histogram plot\n",
    "plt.hist(Rank)"
   ]
  },
  {
   "cell_type": "code",
   "execution_count": 182,
   "metadata": {},
   "outputs": [
    {
     "data": {
      "image/png": "[encoded data removed]",
      "text/plain": [
       "<Figure size 432x288 with 1 Axes>"
      ]
     },
     "metadata": {},
     "output_type": "display_data"
    }
   ],
   "source": [
    "## Quantile-Quantile plot\n",
    "qqplot(Rank, line='s')\n",
    "plt.show()"
   ]
  },
  {
   "cell_type": "code",
   "execution_count": 183,
   "metadata": {},
   "outputs": [
    {
     "name": "stdout",
     "output_type": "stream",
     "text": [
      "Statistics=0.936, p=0.009\n"
     ]
    }
   ],
   "source": [
    "## using Shapiro-Wilk Test\n",
    "stat, p = shapiro(Rank)\n",
    "print('Statistics=%.3f, p=%.3f' % (stat, p))"
   ]
  },
  {
   "cell_type": "code",
   "execution_count": 184,
   "metadata": {},
   "outputs": [
    {
     "name": "stdout",
     "output_type": "stream",
     "text": [
      "Sample does not look Gaussian (reject H0)\n"
     ]
    }
   ],
   "source": [
    "# Adopt h1 if p more than 0.05 significance level.\n",
    "interpret(0.05, p)"
   ]
  },
  {
   "cell_type": "code",
   "execution_count": 185,
   "metadata": {},
   "outputs": [
    {
     "name": "stdout",
     "output_type": "stream",
     "text": [
      "Statistics=17.347, p=0.000\n"
     ]
    }
   ],
   "source": [
    "## D’Agostino’s K^2 Test\n",
    "stat, p = normaltest(Rank)\n",
    "print('Statistics=%.3f, p=%.3f' % (stat, p))"
   ]
  },
  {
   "cell_type": "code",
   "execution_count": 186,
   "metadata": {},
   "outputs": [
    {
     "name": "stdout",
     "output_type": "stream",
     "text": [
      "Sample does not look Gaussian (reject H0)\n"
     ]
    }
   ],
   "source": [
    "# Adopt h1 if p more than 0.05 significance level.\n",
    "interpret(0.05, p)"
   ]
  },
  {
   "cell_type": "markdown",
   "metadata": {},
   "source": [
    "# Correlation test"
   ]
  },
  {
   "cell_type": "code",
   "execution_count": 187,
   "metadata": {},
   "outputs": [],
   "source": [
    "from scipy.stats import pearsonr\n",
    "from scipy.stats import linregress\n",
    "\n",
    "def correlation_interpret(sig_level, p_value):\n",
    "    if p > sig_level:\n",
    "        print('There is no correlation between 2 variables (fail to reject H0: p=0)')\n",
    "    else:\n",
    "        print('There is correlation between 2 varables at alpha=%.3f (reject H0: p=0)' %(sig_level))"
   ]
  },
  {
   "cell_type": "markdown",
   "metadata": {},
   "source": [
    "### SAT - Income"
   ]
  },
  {
   "cell_type": "code",
   "execution_count": 188,
   "metadata": {},
   "outputs": [
    {
     "name": "stdout",
     "output_type": "stream",
     "text": [
      "pearson's coefficient=0.584, p-value=0.000\n",
      "There is correlation between 2 varables at alpha=0.050 (reject H0: p=0)\n"
     ]
    }
   ],
   "source": [
    "r, p = pearsonr(Income, SAT)\n",
    "print(\"pearson's coefficient=%.3f, p-value=%.3f\" % (r, p))\n",
    "\n",
    "correlation_interpret(0.05, p)"
   ]
  },
  {
   "cell_type": "code",
   "execution_count": 206,
   "metadata": {},
   "outputs": [
    {
     "name": "stdout",
     "output_type": "stream",
     "text": [
      "slope=0.948, intercept=669.299, correlation=0.584, p-value=0.000, std-err=0.190\n"
     ]
    }
   ],
   "source": [
    "slope, intercept, r_value, p_value, std_err = linregress(Income, SAT)\n",
    "print(\"slope=%.3f, intercept=%.3f, correlation=%.3f, p-value=%.3f, std-err=%.3f\" % (slope, intercept, r_value, p_value, std_err))"
   ]
  },
  {
   "cell_type": "code",
   "execution_count": 208,
   "metadata": {},
   "outputs": [
    {
     "data": {
      "text/plain": [
       "<matplotlib.legend.Legend at 0x7fe425f37198>"
      ]
     },
     "execution_count": 208,
     "metadata": {},
     "output_type": "execute_result"
    },
    {
     "data": {
      "image/png": "[encoded data removed]",
      "text/plain": [
       "<Figure size 432x288 with 1 Axes>"
      ]
     },
     "metadata": {},
     "output_type": "display_data"
    }
   ],
   "source": [
    "x_plot = 5 * np.array(range(40,82))\n",
    "plt.plot(Income, SAT, 'o', label='original data')\n",
    "plt.plot(x_plot, intercept + slope*x_plot, 'r', label='fitline')\n",
    "plt.legend(loc='lower right')"
   ]
  },
  {
   "cell_type": "markdown",
   "metadata": {},
   "source": [
    "### SAT - Years"
   ]
  },
  {
   "cell_type": "code",
   "execution_count": 191,
   "metadata": {},
   "outputs": [
    {
     "name": "stdout",
     "output_type": "stream",
     "text": [
      "pearson's coefficient=0.331, p-value=0.019\n",
      "There is correlation between 2 varables at alpha=0.050 (reject H0: p=0)\n"
     ]
    }
   ],
   "source": [
    "r, p = pearsonr(Years, SAT)\n",
    "print(\"pearson's coefficient=%.3f, p-value=%.3f\" % (r, p))\n",
    "\n",
    "correlation_interpret(0.05, p)"
   ]
  },
  {
   "cell_type": "code",
   "execution_count": 209,
   "metadata": {},
   "outputs": [
    {
     "name": "stdout",
     "output_type": "stream",
     "text": [
      "slope=33.503, intercept=404.889, correlation=0.331, p-value=0.019, std-err=13.787\n"
     ]
    }
   ],
   "source": [
    "slope, intercept, r_value, p_value, std_err = linregress(Years, SAT)\n",
    "print(\"slope=%.3f, intercept=%.3f, correlation=%.3f, p-value=%.3f, std-err=%.3f\" % (slope, intercept, r_value, p_value, std_err))"
   ]
  },
  {
   "cell_type": "code",
   "execution_count": 211,
   "metadata": {},
   "outputs": [
    {
     "data": {
      "text/plain": [
       "<matplotlib.legend.Legend at 0x7fe425e89b00>"
      ]
     },
     "execution_count": 211,
     "metadata": {},
     "output_type": "execute_result"
    },
    {
     "data": {
      "image/png": "[encoded data removed]",
      "text/plain": [
       "<Figure size 432x288 with 1 Axes>"
      ]
     },
     "metadata": {},
     "output_type": "display_data"
    }
   ],
   "source": [
    "x_plot = 0.3 * np.array(range(15,65))\n",
    "plt.axis([14,18,600,1200])\n",
    "plt.plot(Years, SAT, 'o', label='original data')\n",
    "plt.plot(x_plot, intercept + slope*x_plot, 'r', label='fitline')\n",
    "plt.legend(loc='lower right')"
   ]
  },
  {
   "cell_type": "markdown",
   "metadata": {},
   "source": [
    "### SAT - Takers"
   ]
  },
  {
   "cell_type": "code",
   "execution_count": 325,
   "metadata": {},
   "outputs": [],
   "source": [
    "from scipy.stats import kendalltau\n",
    "\n",
    "def tau_interpret(sig_level, p_value):\n",
    "    if p_value > sig_level:\n",
    "        print('There is no correlation between 2 variables (fail to reject H0: tau=0)')\n",
    "    else:\n",
    "        print('There is correlation between 2 varables at alpha=%.3f (reject H0: tau=0)' %(sig_level))"
   ]
  },
  {
   "cell_type": "code",
   "execution_count": 326,
   "metadata": {},
   "outputs": [
    {
     "name": "stdout",
     "output_type": "stream",
     "text": [
      "tau=-0.6612, p-value=0.0000\n"
     ]
    }
   ],
   "source": [
    "tau, p_value = kendalltau(Takers, SAT)\n",
    "print(\"tau=%.4f, p-value=%.4f\" % (tau, p_value))"
   ]
  },
  {
   "cell_type": "code",
   "execution_count": 327,
   "metadata": {},
   "outputs": [
    {
     "name": "stdout",
     "output_type": "stream",
     "text": [
      "There is correlation between 2 varables at alpha=0.050 (reject H0: tau=0)\n"
     ]
    }
   ],
   "source": [
    "tau_interpret(0.05, p_value)"
   ]
  },
  {
   "cell_type": "markdown",
   "metadata": {},
   "source": [
    " ### SAT - Public"
   ]
  },
  {
   "cell_type": "code",
   "execution_count": 328,
   "metadata": {},
   "outputs": [
    {
     "name": "stdout",
     "output_type": "stream",
     "text": [
      "tau=-0.0312, p-value=0.7505\n"
     ]
    }
   ],
   "source": [
    "tau, p_value = kendalltau(Public, SAT)\n",
    "print(\"tau=%.4f, p-value=%.4f\" % (tau, p_value))"
   ]
  },
  {
   "cell_type": "code",
   "execution_count": 329,
   "metadata": {},
   "outputs": [
    {
     "name": "stdout",
     "output_type": "stream",
     "text": [
      "There is no correlation between 2 variables (fail to reject H0: tau=0)\n"
     ]
    }
   ],
   "source": [
    "tau_interpret(0.05, p_value)"
   ]
  },
  {
   "cell_type": "markdown",
   "metadata": {},
   "source": [
    "### SAT - Expend"
   ]
  },
  {
   "cell_type": "code",
   "execution_count": 330,
   "metadata": {},
   "outputs": [
    {
     "name": "stdout",
     "output_type": "stream",
     "text": [
      "tau=-0.0303, p-value=0.7569\n"
     ]
    }
   ],
   "source": [
    "tau, p_value = kendalltau(Expend, SAT)\n",
    "print(\"tau=%.4f, p-value=%.4f\" % (tau, p_value))"
   ]
  },
  {
   "cell_type": "code",
   "execution_count": 331,
   "metadata": {},
   "outputs": [
    {
     "name": "stdout",
     "output_type": "stream",
     "text": [
      "There is no correlation between 2 variables (fail to reject H0: tau=0)\n"
     ]
    }
   ],
   "source": [
    "tau_interpret(0.05, p_value)"
   ]
  },
  {
   "cell_type": "markdown",
   "metadata": {},
   "source": [
    "### SAT - Rank"
   ]
  },
  {
   "cell_type": "code",
   "execution_count": 332,
   "metadata": {},
   "outputs": [
    {
     "name": "stdout",
     "output_type": "stream",
     "text": [
      "tau=0.6932, p-value=0.0000\n"
     ]
    }
   ],
   "source": [
    "tau, p_value = kendalltau(Rank, SAT)\n",
    "print(\"tau=%.4f, p-value=%.4f\" % (tau, p_value))"
   ]
  },
  {
   "cell_type": "code",
   "execution_count": 333,
   "metadata": {},
   "outputs": [
    {
     "name": "stdout",
     "output_type": "stream",
     "text": [
      "There is correlation between 2 varables at alpha=0.050 (reject H0: tau=0)\n"
     ]
    }
   ],
   "source": [
    "tau_interpret(0.05, p_value)"
   ]
  },
  {
   "cell_type": "code",
   "execution_count": null,
   "metadata": {},
   "outputs": [],
   "source": []
  }
 ],
 "metadata": {
  "kernelspec": {
   "display_name": "Python 3",
   "language": "python",
   "name": "python3"
  },
  "language_info": {
   "codemirror_mode": {
    "name": "ipython",
    "version": 3
   },
   "file_extension": ".py",
   "mimetype": "text/x-python",
   "name": "python",
   "nbconvert_exporter": "python",
   "pygments_lexer": "ipython3",
   "version": "3.6.6"
  }
 },
 "nbformat": 4,
 "nbformat_minor": 2
}
