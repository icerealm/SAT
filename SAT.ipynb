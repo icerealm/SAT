{
 "cells": [
  {
   "cell_type": "markdown",
   "metadata": {},
   "source": [
    "# Import modules"
   ]
  },
  {
   "cell_type": "code",
   "execution_count": 3,
   "metadata": {},
   "outputs": [],
   "source": [
    "import matplotlib.pyplot as plt\n",
    "import numpy as np\n",
    "import pandas as pd\n"
   ]
  },
  {
   "cell_type": "markdown",
   "metadata": {},
   "source": [
    "# Read data source file"
   ]
  },
  {
   "cell_type": "code",
   "execution_count": 4,
   "metadata": {},
   "outputs": [
    {
     "data": {
      "text/html": [
       "<div>\n",
       "<style scoped>\n",
       "    .dataframe tbody tr th:only-of-type {\n",
       "        vertical-align: middle;\n",
       "    }\n",
       "\n",
       "    .dataframe tbody tr th {\n",
       "        vertical-align: top;\n",
       "    }\n",
       "\n",
       "    .dataframe thead th {\n",
       "        text-align: right;\n",
       "    }\n",
       "</style>\n",
       "<table border=\"1\" class=\"dataframe\">\n",
       "  <thead>\n",
       "    <tr style=\"text-align: right;\">\n",
       "      <th></th>\n",
       "      <th>State</th>\n",
       "      <th>SAT</th>\n",
       "      <th>Takers</th>\n",
       "      <th>Income</th>\n",
       "      <th>Years</th>\n",
       "      <th>Public</th>\n",
       "      <th>Expend</th>\n",
       "      <th>Rank</th>\n",
       "    </tr>\n",
       "  </thead>\n",
       "  <tbody>\n",
       "    <tr>\n",
       "      <th>0</th>\n",
       "      <td>Iowa</td>\n",
       "      <td>1088</td>\n",
       "      <td>3</td>\n",
       "      <td>326</td>\n",
       "      <td>16.79</td>\n",
       "      <td>87.8</td>\n",
       "      <td>25.60</td>\n",
       "      <td>89.7</td>\n",
       "    </tr>\n",
       "    <tr>\n",
       "      <th>1</th>\n",
       "      <td>SouthDakota</td>\n",
       "      <td>1075</td>\n",
       "      <td>2</td>\n",
       "      <td>264</td>\n",
       "      <td>16.07</td>\n",
       "      <td>86.2</td>\n",
       "      <td>19.95</td>\n",
       "      <td>90.6</td>\n",
       "    </tr>\n",
       "    <tr>\n",
       "      <th>2</th>\n",
       "      <td>NorthDakota</td>\n",
       "      <td>1068</td>\n",
       "      <td>3</td>\n",
       "      <td>317</td>\n",
       "      <td>16.57</td>\n",
       "      <td>88.3</td>\n",
       "      <td>20.62</td>\n",
       "      <td>89.8</td>\n",
       "    </tr>\n",
       "    <tr>\n",
       "      <th>3</th>\n",
       "      <td>Kansas</td>\n",
       "      <td>1045</td>\n",
       "      <td>5</td>\n",
       "      <td>338</td>\n",
       "      <td>16.30</td>\n",
       "      <td>83.9</td>\n",
       "      <td>27.14</td>\n",
       "      <td>86.3</td>\n",
       "    </tr>\n",
       "    <tr>\n",
       "      <th>4</th>\n",
       "      <td>Nebraska</td>\n",
       "      <td>1045</td>\n",
       "      <td>5</td>\n",
       "      <td>293</td>\n",
       "      <td>17.25</td>\n",
       "      <td>83.6</td>\n",
       "      <td>21.05</td>\n",
       "      <td>88.5</td>\n",
       "    </tr>\n",
       "    <tr>\n",
       "      <th>5</th>\n",
       "      <td>Montana</td>\n",
       "      <td>1033</td>\n",
       "      <td>8</td>\n",
       "      <td>263</td>\n",
       "      <td>15.91</td>\n",
       "      <td>93.7</td>\n",
       "      <td>29.48</td>\n",
       "      <td>86.4</td>\n",
       "    </tr>\n",
       "    <tr>\n",
       "      <th>6</th>\n",
       "      <td>Minnesota</td>\n",
       "      <td>1028</td>\n",
       "      <td>7</td>\n",
       "      <td>343</td>\n",
       "      <td>17.41</td>\n",
       "      <td>78.3</td>\n",
       "      <td>24.84</td>\n",
       "      <td>83.4</td>\n",
       "    </tr>\n",
       "    <tr>\n",
       "      <th>7</th>\n",
       "      <td>Utah</td>\n",
       "      <td>1022</td>\n",
       "      <td>4</td>\n",
       "      <td>333</td>\n",
       "      <td>16.57</td>\n",
       "      <td>75.2</td>\n",
       "      <td>17.42</td>\n",
       "      <td>85.9</td>\n",
       "    </tr>\n",
       "  </tbody>\n",
       "</table>\n",
       "</div>"
      ],
      "text/plain": [
       "         State   SAT  Takers  Income  Years  Public  Expend  Rank\n",
       "0         Iowa  1088       3     326  16.79    87.8   25.60  89.7\n",
       "1  SouthDakota  1075       2     264  16.07    86.2   19.95  90.6\n",
       "2  NorthDakota  1068       3     317  16.57    88.3   20.62  89.8\n",
       "3       Kansas  1045       5     338  16.30    83.9   27.14  86.3\n",
       "4     Nebraska  1045       5     293  17.25    83.6   21.05  88.5\n",
       "5      Montana  1033       8     263  15.91    93.7   29.48  86.4\n",
       "6    Minnesota  1028       7     343  17.41    78.3   24.84  83.4\n",
       "7         Utah  1022       4     333  16.57    75.2   17.42  85.9"
      ]
     },
     "execution_count": 4,
     "metadata": {},
     "output_type": "execute_result"
    }
   ],
   "source": [
    "\n",
    "df = pd.read_csv(\"./case1201.csv\")\n",
    "df.head(8)"
   ]
  },
  {
   "cell_type": "markdown",
   "metadata": {},
   "source": [
    "# Check information"
   ]
  },
  {
   "cell_type": "code",
   "execution_count": 5,
   "metadata": {},
   "outputs": [
    {
     "name": "stdout",
     "output_type": "stream",
     "text": [
      "<class 'pandas.core.frame.DataFrame'>\n",
      "RangeIndex: 50 entries, 0 to 49\n",
      "Data columns (total 8 columns):\n",
      "State     50 non-null object\n",
      "SAT       50 non-null int64\n",
      "Takers    50 non-null int64\n",
      "Income    50 non-null int64\n",
      "Years     50 non-null float64\n",
      "Public    50 non-null float64\n",
      "Expend    50 non-null float64\n",
      "Rank      50 non-null float64\n",
      "dtypes: float64(4), int64(3), object(1)\n",
      "memory usage: 3.2+ KB\n"
     ]
    }
   ],
   "source": [
    "df.info()"
   ]
  },
  {
   "cell_type": "code",
   "execution_count": 6,
   "metadata": {},
   "outputs": [
    {
     "data": {
      "text/plain": [
       "(8, 50)"
      ]
     },
     "execution_count": 6,
     "metadata": {},
     "output_type": "execute_result"
    }
   ],
   "source": [
    "total_records, column_len = df.shape\n",
    "(column_len, total_records)"
   ]
  },
  {
   "cell_type": "code",
   "execution_count": 7,
   "metadata": {},
   "outputs": [
    {
     "data": {
      "text/html": [
       "<div>\n",
       "<style scoped>\n",
       "    .dataframe tbody tr th:only-of-type {\n",
       "        vertical-align: middle;\n",
       "    }\n",
       "\n",
       "    .dataframe tbody tr th {\n",
       "        vertical-align: top;\n",
       "    }\n",
       "\n",
       "    .dataframe thead th {\n",
       "        text-align: right;\n",
       "    }\n",
       "</style>\n",
       "<table border=\"1\" class=\"dataframe\">\n",
       "  <thead>\n",
       "    <tr style=\"text-align: right;\">\n",
       "      <th></th>\n",
       "      <th>SAT</th>\n",
       "      <th>Takers</th>\n",
       "      <th>Income</th>\n",
       "      <th>Years</th>\n",
       "      <th>Public</th>\n",
       "      <th>Expend</th>\n",
       "      <th>Rank</th>\n",
       "    </tr>\n",
       "  </thead>\n",
       "  <tbody>\n",
       "    <tr>\n",
       "      <th>count</th>\n",
       "      <td>50.000000</td>\n",
       "      <td>50.000000</td>\n",
       "      <td>50.000000</td>\n",
       "      <td>50.000000</td>\n",
       "      <td>50.000000</td>\n",
       "      <td>50.000000</td>\n",
       "      <td>50.000000</td>\n",
       "    </tr>\n",
       "    <tr>\n",
       "      <th>mean</th>\n",
       "      <td>947.940000</td>\n",
       "      <td>26.220000</td>\n",
       "      <td>293.980000</td>\n",
       "      <td>16.209200</td>\n",
       "      <td>81.204000</td>\n",
       "      <td>22.965600</td>\n",
       "      <td>79.988000</td>\n",
       "    </tr>\n",
       "    <tr>\n",
       "      <th>std</th>\n",
       "      <td>70.856397</td>\n",
       "      <td>22.022521</td>\n",
       "      <td>43.693034</td>\n",
       "      <td>0.699982</td>\n",
       "      <td>9.830917</td>\n",
       "      <td>6.144932</td>\n",
       "      <td>6.523072</td>\n",
       "    </tr>\n",
       "    <tr>\n",
       "      <th>min</th>\n",
       "      <td>790.000000</td>\n",
       "      <td>2.000000</td>\n",
       "      <td>208.000000</td>\n",
       "      <td>14.390000</td>\n",
       "      <td>44.800000</td>\n",
       "      <td>13.840000</td>\n",
       "      <td>69.800000</td>\n",
       "    </tr>\n",
       "    <tr>\n",
       "      <th>25%</th>\n",
       "      <td>889.250000</td>\n",
       "      <td>6.250000</td>\n",
       "      <td>261.500000</td>\n",
       "      <td>15.910000</td>\n",
       "      <td>76.925000</td>\n",
       "      <td>19.592500</td>\n",
       "      <td>74.025000</td>\n",
       "    </tr>\n",
       "    <tr>\n",
       "      <th>50%</th>\n",
       "      <td>966.000000</td>\n",
       "      <td>16.000000</td>\n",
       "      <td>295.000000</td>\n",
       "      <td>16.360000</td>\n",
       "      <td>80.800000</td>\n",
       "      <td>21.610000</td>\n",
       "      <td>80.850000</td>\n",
       "    </tr>\n",
       "    <tr>\n",
       "      <th>75%</th>\n",
       "      <td>998.500000</td>\n",
       "      <td>47.750000</td>\n",
       "      <td>325.000000</td>\n",
       "      <td>16.757500</td>\n",
       "      <td>88.250000</td>\n",
       "      <td>26.387500</td>\n",
       "      <td>85.825000</td>\n",
       "    </tr>\n",
       "    <tr>\n",
       "      <th>max</th>\n",
       "      <td>1088.000000</td>\n",
       "      <td>69.000000</td>\n",
       "      <td>401.000000</td>\n",
       "      <td>17.410000</td>\n",
       "      <td>97.000000</td>\n",
       "      <td>50.100000</td>\n",
       "      <td>90.600000</td>\n",
       "    </tr>\n",
       "  </tbody>\n",
       "</table>\n",
       "</div>"
      ],
      "text/plain": [
       "               SAT     Takers      Income      Years     Public     Expend  \\\n",
       "count    50.000000  50.000000   50.000000  50.000000  50.000000  50.000000   \n",
       "mean    947.940000  26.220000  293.980000  16.209200  81.204000  22.965600   \n",
       "std      70.856397  22.022521   43.693034   0.699982   9.830917   6.144932   \n",
       "min     790.000000   2.000000  208.000000  14.390000  44.800000  13.840000   \n",
       "25%     889.250000   6.250000  261.500000  15.910000  76.925000  19.592500   \n",
       "50%     966.000000  16.000000  295.000000  16.360000  80.800000  21.610000   \n",
       "75%     998.500000  47.750000  325.000000  16.757500  88.250000  26.387500   \n",
       "max    1088.000000  69.000000  401.000000  17.410000  97.000000  50.100000   \n",
       "\n",
       "            Rank  \n",
       "count  50.000000  \n",
       "mean   79.988000  \n",
       "std     6.523072  \n",
       "min    69.800000  \n",
       "25%    74.025000  \n",
       "50%    80.850000  \n",
       "75%    85.825000  \n",
       "max    90.600000  "
      ]
     },
     "execution_count": 7,
     "metadata": {},
     "output_type": "execute_result"
    }
   ],
   "source": [
    "df.describe()"
   ]
  },
  {
   "cell_type": "code",
   "execution_count": 8,
   "metadata": {},
   "outputs": [
    {
     "data": {
      "text/plain": [
       "[0     888\n",
       " 1     889\n",
       " 2     896\n",
       " 3     975\n",
       " 4     999\n",
       " 5    1045\n",
       " dtype: int64, 0    5\n",
       " dtype: int64, 0    277\n",
       " 1    293\n",
       " 2    295\n",
       " 3    330\n",
       " 4    333\n",
       " dtype: int64]"
      ]
     },
     "execution_count": 8,
     "metadata": {},
     "output_type": "execute_result"
    }
   ],
   "source": [
    "mode_values = [df['SAT'].mode(), df['Takers'].mode(), df['Income'].mode()]\n",
    "mode_values"
   ]
  },
  {
   "cell_type": "code",
   "execution_count": 9,
   "metadata": {},
   "outputs": [
    {
     "data": {
      "text/plain": [
       "False"
      ]
     },
     "execution_count": 9,
     "metadata": {},
     "output_type": "execute_result"
    }
   ],
   "source": [
    "## null checking\n",
    "df.isnull().any().any()"
   ]
  },
  {
   "cell_type": "markdown",
   "metadata": {},
   "source": [
    "# Check tied values"
   ]
  },
  {
   "cell_type": "code",
   "execution_count": 10,
   "metadata": {},
   "outputs": [],
   "source": [
    "def show_count(grouped, threshold):\n",
    "    dg = grouped.size().to_frame('count')\n",
    "    print(dg[dg['count'] > threshold])"
   ]
  },
  {
   "cell_type": "code",
   "execution_count": 11,
   "metadata": {},
   "outputs": [
    {
     "name": "stdout",
     "output_type": "stream",
     "text": [
      "        count\n",
      "Takers       \n",
      "3           3\n",
      "4           2\n",
      "5           5\n",
      "6           2\n",
      "7           3\n",
      "8           2\n",
      "10          3\n",
      "16          2\n",
      "47          2\n",
      "48          2\n",
      "50          2\n",
      "59          2\n"
     ]
    }
   ],
   "source": [
    "show_count(df[['Takers']].groupby(['Takers']), 1)"
   ]
  },
  {
   "cell_type": "code",
   "execution_count": 12,
   "metadata": {},
   "outputs": [
    {
     "name": "stdout",
     "output_type": "stream",
     "text": [
      "        count\n",
      "Public       \n",
      "67.9        2\n",
      "80.4        2\n",
      "80.7        2\n",
      "88.3        2\n",
      "92.1        2\n"
     ]
    }
   ],
   "source": [
    "show_count(df[['Public']].groupby(['Public']), 1)"
   ]
  },
  {
   "cell_type": "code",
   "execution_count": 13,
   "metadata": {},
   "outputs": [
    {
     "name": "stdout",
     "output_type": "stream",
     "text": [
      "Empty DataFrame\n",
      "Columns: [count]\n",
      "Index: []\n"
     ]
    }
   ],
   "source": [
    "show_count(df[['Expend']].groupby(['Expend']), 1)"
   ]
  },
  {
   "cell_type": "code",
   "execution_count": 14,
   "metadata": {},
   "outputs": [
    {
     "name": "stdout",
     "output_type": "stream",
     "text": [
      "      count\n",
      "Rank       \n",
      "69.8      2\n",
      "69.9      2\n",
      "71.4      2\n",
      "74.0      2\n",
      "74.6      2\n",
      "81.8      2\n",
      "83.4      2\n",
      "85.9      2\n",
      "86.4      2\n"
     ]
    }
   ],
   "source": [
    "show_count(df[['Rank']].groupby(['Rank']), 1)"
   ]
  },
  {
   "cell_type": "code",
   "execution_count": 18,
   "metadata": {},
   "outputs": [
    {
     "data": {
      "text/plain": [
       "<seaborn.axisgrid.PairGrid at 0x7f77c46705f8>"
      ]
     },
     "execution_count": 18,
     "metadata": {},
     "output_type": "execute_result"
    },
    {
     "data": {
      "image/png": "[encoded data removed]",
      "text/plain": [
       "<Figure size 1260x1260 with 56 Axes>"
      ]
     },
     "metadata": {},
     "output_type": "display_data"
    }
   ],
   "source": [
    "import seaborn as sns\n",
    "\n",
    "sns.set(style=\"ticks\")\n",
    "sns.pairplot(df)"
   ]
  },
  {
   "cell_type": "markdown",
   "metadata": {},
   "source": [
    "# Normal distribution checking"
   ]
  },
  {
   "cell_type": "code",
   "execution_count": 12,
   "metadata": {},
   "outputs": [],
   "source": [
    "from scipy.stats import shapiro\n",
    "from scipy.stats import normaltest\n",
    "from statsmodels.graphics.gofplots import qqplot\n",
    "\n",
    "SAT = df['SAT']\n",
    "Takers = df['Takers']\n",
    "Income = df['Income']\n",
    "Years = df['Years']\n",
    "Public = df['Public']\n",
    "Expend = df['Expend']\n",
    "Rank = df['Rank']\n",
    "\n",
    "\n",
    "def interpret(sig_level, p_value):\n",
    "    if p > sig_level:\n",
    "        print('Sample looks Gaussian (fail to reject H0)')\n",
    "    else:\n",
    "        print('Sample does not look Gaussian (reject H0)')\n",
    "\n"
   ]
  },
  {
   "cell_type": "markdown",
   "metadata": {},
   "source": [
    "### SAT"
   ]
  },
  {
   "cell_type": "code",
   "execution_count": 13,
   "metadata": {},
   "outputs": [
    {
     "data": {
      "text/plain": [
       "(array([  1.,   2.,   5.,  12.,   3.,   3.,  11.,   7.,   3.,   3.]),\n",
       " array([  790. ,   819.8,   849.6,   879.4,   909.2,   939. ,   968.8,\n",
       "          998.6,  1028.4,  1058.2,  1088. ]),\n",
       " <a list of 10 Patch objects>)"
      ]
     },
     "execution_count": 13,
     "metadata": {},
     "output_type": "execute_result"
    },
    {
     "data": {
      "image/png": "[encoded data removed]",
      "text/plain": [
       "<Figure size 432x288 with 1 Axes>"
      ]
     },
     "metadata": {},
     "output_type": "display_data"
    }
   ],
   "source": [
    "## histogram plot\n",
    "plt.hist(SAT)"
   ]
  },
  {
   "cell_type": "code",
   "execution_count": 14,
   "metadata": {},
   "outputs": [
    {
     "data": {
      "image/png": "[encoded data removed]",
      "text/plain": [
       "<Figure size 432x288 with 1 Axes>"
      ]
     },
     "metadata": {},
     "output_type": "display_data"
    }
   ],
   "source": [
    "## Quantile-Quantile plot\n",
    "qqplot(SAT, line='s')\n",
    "plt.show()"
   ]
  },
  {
   "cell_type": "code",
   "execution_count": 15,
   "metadata": {},
   "outputs": [
    {
     "name": "stdout",
     "output_type": "stream",
     "text": [
      "Statistics=0.969, p=0.218\n"
     ]
    }
   ],
   "source": [
    "## using Shapiro-Wilk Test\n",
    "stat, p = shapiro(SAT)\n",
    "print('Statistics=%.3f, p=%.3f' % (stat, p))"
   ]
  },
  {
   "cell_type": "code",
   "execution_count": 16,
   "metadata": {},
   "outputs": [
    {
     "name": "stdout",
     "output_type": "stream",
     "text": [
      "Sample looks Gaussian (fail to reject H0)\n"
     ]
    }
   ],
   "source": [
    "# Adopt h1 if p more than 0.05 significance level.\n",
    "interpret(0.05, p)"
   ]
  },
  {
   "cell_type": "code",
   "execution_count": 17,
   "metadata": {},
   "outputs": [
    {
     "name": "stdout",
     "output_type": "stream",
     "text": [
      "Statistics=2.270, p=0.321\n"
     ]
    }
   ],
   "source": [
    "## D’Agostino’s K^2 Test\n",
    "stat, p = normaltest(SAT)\n",
    "print('Statistics=%.3f, p=%.3f' % (stat, p))"
   ]
  },
  {
   "cell_type": "code",
   "execution_count": 18,
   "metadata": {},
   "outputs": [
    {
     "name": "stdout",
     "output_type": "stream",
     "text": [
      "Sample looks Gaussian (fail to reject H0)\n"
     ]
    }
   ],
   "source": [
    "# Adopt h1 if p more than 0.05 significance level.\n",
    "interpret(0.05, p)"
   ]
  },
  {
   "cell_type": "markdown",
   "metadata": {},
   "source": [
    "# Correlation test"
   ]
  },
  {
   "cell_type": "code",
   "execution_count": 55,
   "metadata": {},
   "outputs": [],
   "source": [
    "from scipy.stats import pearsonr\n",
    "from scipy.stats import linregress\n",
    "\n",
    "def correlation_interpret(sig_level, p_value):\n",
    "    if p > sig_level:\n",
    "        print('There is no correlation between 2 variables (fail to reject H0: p=0)')\n",
    "    else:\n",
    "        print('There is correlation between 2 varables at alpha=%.3f (reject H0: p=0)' %(sig_level))"
   ]
  },
  {
   "cell_type": "markdown",
   "metadata": {},
   "source": [
    "### SAT - Income"
   ]
  },
  {
   "cell_type": "code",
   "execution_count": 56,
   "metadata": {},
   "outputs": [
    {
     "name": "stdout",
     "output_type": "stream",
     "text": [
      "pearson's coefficient=0.584, p-value=0.000\n",
      "There is correlation between 2 varables at alpha=0.050 (reject H0: p=0)\n"
     ]
    }
   ],
   "source": [
    "r, p = pearsonr(Income, SAT)\n",
    "print(\"pearson's coefficient=%.3f, p-value=%.3f\" % (r, p))\n",
    "\n",
    "correlation_interpret(0.05, p)"
   ]
  },
  {
   "cell_type": "code",
   "execution_count": 57,
   "metadata": {},
   "outputs": [
    {
     "name": "stdout",
     "output_type": "stream",
     "text": [
      "slope=0.948, intercept=669.299, correlation=0.584, p-value=0.000, std-err=0.190\n"
     ]
    }
   ],
   "source": [
    "slope, intercept, r_value, p_value, std_err = linregress(Income, SAT)\n",
    "print(\"slope=%.3f, intercept=%.3f, correlation=%.3f, p-value=%.3f, std-err=%.3f\" % (slope, intercept, r_value, p_value, std_err))"
   ]
  },
  {
   "cell_type": "code",
   "execution_count": 58,
   "metadata": {},
   "outputs": [
    {
     "data": {
      "text/plain": [
       "<matplotlib.legend.Legend at 0x7eff0394d160>"
      ]
     },
     "execution_count": 58,
     "metadata": {},
     "output_type": "execute_result"
    },
    {
     "data": {
      "image/png": "[encoded data removed]",
      "text/plain": [
       "<Figure size 432x288 with 1 Axes>"
      ]
     },
     "metadata": {},
     "output_type": "display_data"
    }
   ],
   "source": [
    "x_plot = 5 * np.array(range(40,82))\n",
    "plt.plot(Income, SAT, 'o', label='original data')\n",
    "plt.plot(x_plot, intercept + slope*x_plot, 'r', label='fitline')\n",
    "plt.legend(loc='lower right')"
   ]
  },
  {
   "cell_type": "markdown",
   "metadata": {},
   "source": [
    "### SAT - Years"
   ]
  },
  {
   "cell_type": "code",
   "execution_count": 59,
   "metadata": {},
   "outputs": [
    {
     "name": "stdout",
     "output_type": "stream",
     "text": [
      "pearson's coefficient=0.331, p-value=0.019\n",
      "There is correlation between 2 varables at alpha=0.050 (reject H0: p=0)\n"
     ]
    }
   ],
   "source": [
    "r, p = pearsonr(Years, SAT)\n",
    "print(\"pearson's coefficient=%.3f, p-value=%.3f\" % (r, p))\n",
    "\n",
    "correlation_interpret(0.05, p)"
   ]
  },
  {
   "cell_type": "code",
   "execution_count": 60,
   "metadata": {},
   "outputs": [
    {
     "name": "stdout",
     "output_type": "stream",
     "text": [
      "slope=33.503, intercept=404.889, correlation=0.331, p-value=0.019, std-err=13.787\n"
     ]
    }
   ],
   "source": [
    "slope, intercept, r_value, p_value, std_err = linregress(Years, SAT)\n",
    "print(\"slope=%.3f, intercept=%.3f, correlation=%.3f, p-value=%.3f, std-err=%.3f\" % (slope, intercept, r_value, p_value, std_err))"
   ]
  },
  {
   "cell_type": "code",
   "execution_count": 61,
   "metadata": {},
   "outputs": [
    {
     "data": {
      "text/plain": [
       "<matplotlib.legend.Legend at 0x7eff03a355c0>"
      ]
     },
     "execution_count": 61,
     "metadata": {},
     "output_type": "execute_result"
    },
    {
     "data": {
      "image/png": "[encoded data removed]",
      "text/plain": [
       "<Figure size 432x288 with 1 Axes>"
      ]
     },
     "metadata": {},
     "output_type": "display_data"
    }
   ],
   "source": [
    "x_plot = 0.3 * np.array(range(15,65))\n",
    "plt.axis([14,18,600,1200])\n",
    "plt.plot(Years, SAT, 'o', label='original data')\n",
    "plt.plot(x_plot, intercept + slope*x_plot, 'r', label='fitline')\n",
    "plt.legend(loc='lower right')"
   ]
  },
  {
   "cell_type": "markdown",
   "metadata": {},
   "source": [
    "### SAT - Takers"
   ]
  },
  {
   "cell_type": "code",
   "execution_count": 62,
   "metadata": {},
   "outputs": [],
   "source": [
    "from scipy.stats import kendalltau\n",
    "from scipy.stats import spearmanr\n",
    "\n",
    "def tau_interpret(sig_level, p_value):\n",
    "    if p_value > sig_level:\n",
    "        print('There is no correlation between 2 variables (fail to reject H0: tau=0)')\n",
    "    else:\n",
    "        print('There is correlation between 2 varables at alpha=%.3f (reject H0: tau=0)' %(sig_level))\n",
    "        \n",
    "def spearman_interpret(sig_level, p_value):\n",
    "    if p_value > sig_level:\n",
    "        print('There is no correlation between 2 variables (fail to reject H0: ps=0)')\n",
    "    else:\n",
    "        print('There is correlation between 2 varables at alpha=%.3f (reject H0: ps=0)' %(sig_level))"
   ]
  },
  {
   "cell_type": "code",
   "execution_count": 63,
   "metadata": {},
   "outputs": [
    {
     "name": "stdout",
     "output_type": "stream",
     "text": [
      "tau=-0.6612, p-value=0.0000\n"
     ]
    }
   ],
   "source": [
    "tau, p_value = kendalltau(Takers, SAT)\n",
    "print(\"tau=%.4f, p-value=%.4f\" % (tau, p_value))"
   ]
  },
  {
   "cell_type": "code",
   "execution_count": 64,
   "metadata": {},
   "outputs": [
    {
     "name": "stdout",
     "output_type": "stream",
     "text": [
      "There is correlation between 2 varables at alpha=0.050 (reject H0: tau=0)\n"
     ]
    }
   ],
   "source": [
    "tau_interpret(0.05, p_value)"
   ]
  },
  {
   "cell_type": "markdown",
   "metadata": {},
   "source": [
    " ### SAT - Public"
   ]
  },
  {
   "cell_type": "code",
   "execution_count": 65,
   "metadata": {},
   "outputs": [
    {
     "name": "stdout",
     "output_type": "stream",
     "text": [
      "tau=-0.0312, p-value=0.7505\n"
     ]
    }
   ],
   "source": [
    "tau, p_value = kendalltau(Public, SAT)\n",
    "print(\"tau=%.4f, p-value=%.4f\" % (tau, p_value))"
   ]
  },
  {
   "cell_type": "code",
   "execution_count": 66,
   "metadata": {},
   "outputs": [
    {
     "name": "stdout",
     "output_type": "stream",
     "text": [
      "There is no correlation between 2 variables (fail to reject H0: tau=0)\n"
     ]
    }
   ],
   "source": [
    "tau_interpret(0.05, p_value)"
   ]
  },
  {
   "cell_type": "markdown",
   "metadata": {},
   "source": [
    "### SAT - Expend"
   ]
  },
  {
   "cell_type": "code",
   "execution_count": 67,
   "metadata": {},
   "outputs": [
    {
     "name": "stdout",
     "output_type": "stream",
     "text": [
      "tau=-0.0493, p-value=0.7340\n"
     ]
    }
   ],
   "source": [
    "tau, p_value = spearmanr(Expend, SAT)\n",
    "print(\"tau=%.4f, p-value=%.4f\" % (tau, p_value))"
   ]
  },
  {
   "cell_type": "code",
   "execution_count": 68,
   "metadata": {},
   "outputs": [
    {
     "name": "stdout",
     "output_type": "stream",
     "text": [
      "There is no correlation between 2 variables (fail to reject H0: tau=0)\n"
     ]
    }
   ],
   "source": [
    "tau_interpret(0.05, p_value)"
   ]
  },
  {
   "cell_type": "markdown",
   "metadata": {},
   "source": [
    "### SAT - Rank"
   ]
  },
  {
   "cell_type": "code",
   "execution_count": 69,
   "metadata": {},
   "outputs": [
    {
     "name": "stdout",
     "output_type": "stream",
     "text": [
      "tau=0.6932, p-value=0.0000\n"
     ]
    }
   ],
   "source": [
    "tau, p_value = kendalltau(Rank, SAT)\n",
    "print(\"tau=%.4f, p-value=%.4f\" % (tau, p_value))"
   ]
  },
  {
   "cell_type": "code",
   "execution_count": 70,
   "metadata": {},
   "outputs": [
    {
     "name": "stdout",
     "output_type": "stream",
     "text": [
      "There is correlation between 2 varables at alpha=0.050 (reject H0: tau=0)\n"
     ]
    }
   ],
   "source": [
    "tau_interpret(0.05, p_value)"
   ]
  },
  {
   "cell_type": "markdown",
   "metadata": {},
   "source": [
    "# Linear Regression"
   ]
  },
  {
   "cell_type": "code",
   "execution_count": 16,
   "metadata": {},
   "outputs": [],
   "source": [
    "from sklearn import linear_model\n",
    "import statsmodels.api as sm"
   ]
  },
  {
   "cell_type": "code",
   "execution_count": 31,
   "metadata": {},
   "outputs": [],
   "source": [
    "X = df[['Takers', 'Income', 'Years', 'Public', 'Expend', 'Rank']]\n",
    "Y = df['SAT']"
   ]
  },
  {
   "cell_type": "code",
   "execution_count": 42,
   "metadata": {},
   "outputs": [
    {
     "name": "stdout",
     "output_type": "stream",
     "text": [
      "intercept:-94.659\n",
      "Takers(x1): -0.48008012043\n",
      "Income(x2): -0.00819501342747\n",
      "Years(x3): 22.6100819085\n",
      "Public(x4): -0.464152292294\n",
      "Expend(x5): 2.21200485002\n",
      "Rank(x6): 8.47621698476\n",
      "equation: -94.6591 + (-0.4801)X1 + (-0.0082)X2 + (22.6101)X3 + (-0.4642)X4 + (2.2120)X5 + (8.4762)X6\n"
     ]
    }
   ],
   "source": [
    "#sklearn utilities\n",
    "regr = linear_model.LinearRegression()\n",
    "regr.fit(X, Y)\n",
    "print('intercept:%.3f' %(regr.intercept_))\n",
    "print('Takers(x1):', regr.coef_[1])\n",
    "print('Income(x2):', regr.coef_[2])\n",
    "print('Years(x3):', regr.coef_[3])\n",
    "print('Public(x4):', regr.coef_[4])\n",
    "print('Expend(x5):', regr.coef_[5])\n",
    "print('Rank(x6):', regr.coef_[6])\n",
    "print('equation: %.4f + (%.4f)X1 + (%.4f)X2 + (%.4f)X3 + (%.4f)X4 + (%.4f)X5 + (%.4f)X6' \n",
    "      %(regr.intercept_, regr.coef_[1], regr.coef_[2], regr.coef_[3], regr.coef_[4],regr.coef_[5], regr.coef_[6]))"
   ]
  },
  {
   "cell_type": "code",
   "execution_count": 37,
   "metadata": {},
   "outputs": [
    {
     "name": "stdout",
     "output_type": "stream",
     "text": [
      "                            OLS Regression Results                            \n",
      "==============================================================================\n",
      "Dep. Variable:                    SAT   R-squared:                       0.879\n",
      "Model:                            OLS   Adj. R-squared:                  0.862\n",
      "Method:                 Least Squares   F-statistic:                     51.91\n",
      "Date:                Mon, 27 Aug 2018   Prob (F-statistic):           4.16e-18\n",
      "Time:                        05:05:50   Log-Likelihood:                -230.74\n",
      "No. Observations:                  50   AIC:                             475.5\n",
      "Df Residuals:                      43   BIC:                             488.9\n",
      "Df Model:                           6                                         \n",
      "Covariance Type:            nonrobust                                         \n",
      "==============================================================================\n",
      "                 coef    std err          t      P>|t|      [0.025      0.975]\n",
      "------------------------------------------------------------------------------\n",
      "const        -94.6591    211.510     -0.448      0.657    -521.209     331.891\n",
      "Takers        -0.4801      0.694     -0.692      0.493      -1.879       0.919\n",
      "Income        -0.0082      0.152     -0.054      0.957      -0.315       0.299\n",
      "Years         22.6101      6.315      3.581      0.001       9.876      35.345\n",
      "Public        -0.4642      0.579     -0.802      0.427      -1.632       0.704\n",
      "Expend         2.2120      0.846      2.615      0.012       0.506       3.918\n",
      "Rank           8.4762      2.108      4.021      0.000       4.225      12.727\n",
      "==============================================================================\n",
      "Omnibus:                        3.692   Durbin-Watson:                   1.497\n",
      "Prob(Omnibus):                  0.158   Jarque-Bera (JB):                2.957\n",
      "Skew:                          -0.591   Prob(JB):                        0.228\n",
      "Kurtosis:                       3.152   Cond. No.                     1.82e+04\n",
      "==============================================================================\n",
      "\n",
      "Warnings:\n",
      "[1] Standard Errors assume that the covariance matrix of the errors is correctly specified.\n",
      "[2] The condition number is large, 1.82e+04. This might indicate that there are\n",
      "strong multicollinearity or other numerical problems.\n"
     ]
    }
   ],
   "source": [
    "X = sm.add_constant(X) # adding a constant\n",
    " \n",
    "model = sm.OLS(Y, X).fit()\n",
    "predictions = model.predict(X) \n",
    " \n",
    "print_model = model.summary()\n",
    "print(print_model)"
   ]
  },
  {
   "cell_type": "code",
   "execution_count": null,
   "metadata": {},
   "outputs": [],
   "source": []
  }
 ],
 "metadata": {
  "kernelspec": {
   "display_name": "Python 3",
   "language": "python",
   "name": "python3"
  },
  "language_info": {
   "codemirror_mode": {
    "name": "ipython",
    "version": 3
   },
   "file_extension": ".py",
   "mimetype": "text/x-python",
   "name": "python",
   "nbconvert_exporter": "python",
   "pygments_lexer": "ipython3",
   "version": "3.6.6"
  }
 },
 "nbformat": 4,
 "nbformat_minor": 2
}
