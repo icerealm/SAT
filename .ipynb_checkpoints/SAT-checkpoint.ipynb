{
 "cells": [
  {
   "cell_type": "markdown",
   "metadata": {},
   "source": [
    "## Import modules"
   ]
  },
  {
   "cell_type": "code",
   "execution_count": 10,
   "metadata": {},
   "outputs": [],
   "source": [
    "import matplotlib.pyplot as plt\n",
    "import numpy as np\n",
    "import pandas as pd\n"
   ]
  },
  {
   "cell_type": "markdown",
   "metadata": {},
   "source": [
    "## Read data source file"
   ]
  },
  {
   "cell_type": "code",
   "execution_count": 11,
   "metadata": {},
   "outputs": [
    {
     "data": {
      "text/html": [
       "<div>\n",
       "<style scoped>\n",
       "    .dataframe tbody tr th:only-of-type {\n",
       "        vertical-align: middle;\n",
       "    }\n",
       "\n",
       "    .dataframe tbody tr th {\n",
       "        vertical-align: top;\n",
       "    }\n",
       "\n",
       "    .dataframe thead th {\n",
       "        text-align: right;\n",
       "    }\n",
       "</style>\n",
       "<table border=\"1\" class=\"dataframe\">\n",
       "  <thead>\n",
       "    <tr style=\"text-align: right;\">\n",
       "      <th></th>\n",
       "      <th>State</th>\n",
       "      <th>SAT</th>\n",
       "      <th>Takers</th>\n",
       "      <th>Income</th>\n",
       "      <th>Years</th>\n",
       "      <th>Public</th>\n",
       "      <th>Expend</th>\n",
       "      <th>Rank</th>\n",
       "    </tr>\n",
       "  </thead>\n",
       "  <tbody>\n",
       "    <tr>\n",
       "      <th>0</th>\n",
       "      <td>Iowa</td>\n",
       "      <td>1088</td>\n",
       "      <td>3</td>\n",
       "      <td>326</td>\n",
       "      <td>16.79</td>\n",
       "      <td>87.8</td>\n",
       "      <td>25.60</td>\n",
       "      <td>89.7</td>\n",
       "    </tr>\n",
       "    <tr>\n",
       "      <th>1</th>\n",
       "      <td>SouthDakota</td>\n",
       "      <td>1075</td>\n",
       "      <td>2</td>\n",
       "      <td>264</td>\n",
       "      <td>16.07</td>\n",
       "      <td>86.2</td>\n",
       "      <td>19.95</td>\n",
       "      <td>90.6</td>\n",
       "    </tr>\n",
       "    <tr>\n",
       "      <th>2</th>\n",
       "      <td>NorthDakota</td>\n",
       "      <td>1068</td>\n",
       "      <td>3</td>\n",
       "      <td>317</td>\n",
       "      <td>16.57</td>\n",
       "      <td>88.3</td>\n",
       "      <td>20.62</td>\n",
       "      <td>89.8</td>\n",
       "    </tr>\n",
       "    <tr>\n",
       "      <th>3</th>\n",
       "      <td>Kansas</td>\n",
       "      <td>1045</td>\n",
       "      <td>5</td>\n",
       "      <td>338</td>\n",
       "      <td>16.30</td>\n",
       "      <td>83.9</td>\n",
       "      <td>27.14</td>\n",
       "      <td>86.3</td>\n",
       "    </tr>\n",
       "    <tr>\n",
       "      <th>4</th>\n",
       "      <td>Nebraska</td>\n",
       "      <td>1045</td>\n",
       "      <td>5</td>\n",
       "      <td>293</td>\n",
       "      <td>17.25</td>\n",
       "      <td>83.6</td>\n",
       "      <td>21.05</td>\n",
       "      <td>88.5</td>\n",
       "    </tr>\n",
       "    <tr>\n",
       "      <th>5</th>\n",
       "      <td>Montana</td>\n",
       "      <td>1033</td>\n",
       "      <td>8</td>\n",
       "      <td>263</td>\n",
       "      <td>15.91</td>\n",
       "      <td>93.7</td>\n",
       "      <td>29.48</td>\n",
       "      <td>86.4</td>\n",
       "    </tr>\n",
       "    <tr>\n",
       "      <th>6</th>\n",
       "      <td>Minnesota</td>\n",
       "      <td>1028</td>\n",
       "      <td>7</td>\n",
       "      <td>343</td>\n",
       "      <td>17.41</td>\n",
       "      <td>78.3</td>\n",
       "      <td>24.84</td>\n",
       "      <td>83.4</td>\n",
       "    </tr>\n",
       "    <tr>\n",
       "      <th>7</th>\n",
       "      <td>Utah</td>\n",
       "      <td>1022</td>\n",
       "      <td>4</td>\n",
       "      <td>333</td>\n",
       "      <td>16.57</td>\n",
       "      <td>75.2</td>\n",
       "      <td>17.42</td>\n",
       "      <td>85.9</td>\n",
       "    </tr>\n",
       "  </tbody>\n",
       "</table>\n",
       "</div>"
      ],
      "text/plain": [
       "         State   SAT  Takers  Income  Years  Public  Expend  Rank\n",
       "0         Iowa  1088       3     326  16.79    87.8   25.60  89.7\n",
       "1  SouthDakota  1075       2     264  16.07    86.2   19.95  90.6\n",
       "2  NorthDakota  1068       3     317  16.57    88.3   20.62  89.8\n",
       "3       Kansas  1045       5     338  16.30    83.9   27.14  86.3\n",
       "4     Nebraska  1045       5     293  17.25    83.6   21.05  88.5\n",
       "5      Montana  1033       8     263  15.91    93.7   29.48  86.4\n",
       "6    Minnesota  1028       7     343  17.41    78.3   24.84  83.4\n",
       "7         Utah  1022       4     333  16.57    75.2   17.42  85.9"
      ]
     },
     "execution_count": 11,
     "metadata": {},
     "output_type": "execute_result"
    }
   ],
   "source": [
    "\n",
    "df = pd.read_csv(\"./case1201.csv\")\n",
    "df.head(8)"
   ]
  },
  {
   "cell_type": "markdown",
   "metadata": {},
   "source": [
    "## Check information"
   ]
  },
  {
   "cell_type": "code",
   "execution_count": 12,
   "metadata": {},
   "outputs": [
    {
     "name": "stdout",
     "output_type": "stream",
     "text": [
      "<class 'pandas.core.frame.DataFrame'>\n",
      "RangeIndex: 50 entries, 0 to 49\n",
      "Data columns (total 8 columns):\n",
      "State     50 non-null object\n",
      "SAT       50 non-null int64\n",
      "Takers    50 non-null int64\n",
      "Income    50 non-null int64\n",
      "Years     50 non-null float64\n",
      "Public    50 non-null float64\n",
      "Expend    50 non-null float64\n",
      "Rank      50 non-null float64\n",
      "dtypes: float64(4), int64(3), object(1)\n",
      "memory usage: 3.2+ KB\n"
     ]
    }
   ],
   "source": [
    "df.info()"
   ]
  },
  {
   "cell_type": "code",
   "execution_count": 13,
   "metadata": {},
   "outputs": [
    {
     "data": {
      "text/plain": [
       "(8, 50)"
      ]
     },
     "execution_count": 13,
     "metadata": {},
     "output_type": "execute_result"
    }
   ],
   "source": [
    "total_records, column_len = df.shape\n",
    "(column_len, total_records)"
   ]
  },
  {
   "cell_type": "code",
   "execution_count": 14,
   "metadata": {},
   "outputs": [
    {
     "data": {
      "text/html": [
       "<div>\n",
       "<style scoped>\n",
       "    .dataframe tbody tr th:only-of-type {\n",
       "        vertical-align: middle;\n",
       "    }\n",
       "\n",
       "    .dataframe tbody tr th {\n",
       "        vertical-align: top;\n",
       "    }\n",
       "\n",
       "    .dataframe thead th {\n",
       "        text-align: right;\n",
       "    }\n",
       "</style>\n",
       "<table border=\"1\" class=\"dataframe\">\n",
       "  <thead>\n",
       "    <tr style=\"text-align: right;\">\n",
       "      <th></th>\n",
       "      <th>SAT</th>\n",
       "      <th>Takers</th>\n",
       "      <th>Income</th>\n",
       "      <th>Years</th>\n",
       "      <th>Public</th>\n",
       "      <th>Expend</th>\n",
       "      <th>Rank</th>\n",
       "    </tr>\n",
       "  </thead>\n",
       "  <tbody>\n",
       "    <tr>\n",
       "      <th>count</th>\n",
       "      <td>50.000000</td>\n",
       "      <td>50.000000</td>\n",
       "      <td>50.000000</td>\n",
       "      <td>50.000000</td>\n",
       "      <td>50.000000</td>\n",
       "      <td>50.000000</td>\n",
       "      <td>50.000000</td>\n",
       "    </tr>\n",
       "    <tr>\n",
       "      <th>mean</th>\n",
       "      <td>947.940000</td>\n",
       "      <td>26.220000</td>\n",
       "      <td>293.980000</td>\n",
       "      <td>16.209200</td>\n",
       "      <td>81.204000</td>\n",
       "      <td>22.965600</td>\n",
       "      <td>79.988000</td>\n",
       "    </tr>\n",
       "    <tr>\n",
       "      <th>std</th>\n",
       "      <td>70.856397</td>\n",
       "      <td>22.022521</td>\n",
       "      <td>43.693034</td>\n",
       "      <td>0.699982</td>\n",
       "      <td>9.830917</td>\n",
       "      <td>6.144932</td>\n",
       "      <td>6.523072</td>\n",
       "    </tr>\n",
       "    <tr>\n",
       "      <th>min</th>\n",
       "      <td>790.000000</td>\n",
       "      <td>2.000000</td>\n",
       "      <td>208.000000</td>\n",
       "      <td>14.390000</td>\n",
       "      <td>44.800000</td>\n",
       "      <td>13.840000</td>\n",
       "      <td>69.800000</td>\n",
       "    </tr>\n",
       "    <tr>\n",
       "      <th>25%</th>\n",
       "      <td>889.250000</td>\n",
       "      <td>6.250000</td>\n",
       "      <td>261.500000</td>\n",
       "      <td>15.910000</td>\n",
       "      <td>76.925000</td>\n",
       "      <td>19.592500</td>\n",
       "      <td>74.025000</td>\n",
       "    </tr>\n",
       "    <tr>\n",
       "      <th>50%</th>\n",
       "      <td>966.000000</td>\n",
       "      <td>16.000000</td>\n",
       "      <td>295.000000</td>\n",
       "      <td>16.360000</td>\n",
       "      <td>80.800000</td>\n",
       "      <td>21.610000</td>\n",
       "      <td>80.850000</td>\n",
       "    </tr>\n",
       "    <tr>\n",
       "      <th>75%</th>\n",
       "      <td>998.500000</td>\n",
       "      <td>47.750000</td>\n",
       "      <td>325.000000</td>\n",
       "      <td>16.757500</td>\n",
       "      <td>88.250000</td>\n",
       "      <td>26.387500</td>\n",
       "      <td>85.825000</td>\n",
       "    </tr>\n",
       "    <tr>\n",
       "      <th>max</th>\n",
       "      <td>1088.000000</td>\n",
       "      <td>69.000000</td>\n",
       "      <td>401.000000</td>\n",
       "      <td>17.410000</td>\n",
       "      <td>97.000000</td>\n",
       "      <td>50.100000</td>\n",
       "      <td>90.600000</td>\n",
       "    </tr>\n",
       "  </tbody>\n",
       "</table>\n",
       "</div>"
      ],
      "text/plain": [
       "               SAT     Takers      Income      Years     Public     Expend  \\\n",
       "count    50.000000  50.000000   50.000000  50.000000  50.000000  50.000000   \n",
       "mean    947.940000  26.220000  293.980000  16.209200  81.204000  22.965600   \n",
       "std      70.856397  22.022521   43.693034   0.699982   9.830917   6.144932   \n",
       "min     790.000000   2.000000  208.000000  14.390000  44.800000  13.840000   \n",
       "25%     889.250000   6.250000  261.500000  15.910000  76.925000  19.592500   \n",
       "50%     966.000000  16.000000  295.000000  16.360000  80.800000  21.610000   \n",
       "75%     998.500000  47.750000  325.000000  16.757500  88.250000  26.387500   \n",
       "max    1088.000000  69.000000  401.000000  17.410000  97.000000  50.100000   \n",
       "\n",
       "            Rank  \n",
       "count  50.000000  \n",
       "mean   79.988000  \n",
       "std     6.523072  \n",
       "min    69.800000  \n",
       "25%    74.025000  \n",
       "50%    80.850000  \n",
       "75%    85.825000  \n",
       "max    90.600000  "
      ]
     },
     "execution_count": 14,
     "metadata": {},
     "output_type": "execute_result"
    }
   ],
   "source": [
    "df.describe()"
   ]
  },
  {
   "cell_type": "markdown",
   "metadata": {},
   "source": [
    "## normal distribution checking"
   ]
  },
  {
   "cell_type": "code",
   "execution_count": 24,
   "metadata": {},
   "outputs": [
    {
     "name": "stdout",
     "output_type": "stream",
     "text": [
      "Statistics=0.969, p=0.218\n",
      "Sample looks Gaussian (fail to reject H0)\n"
     ]
    }
   ],
   "source": [
    "from scipy.stats import shapiro\n",
    "\n",
    "SAT = df['SAT']\n",
    "Takers = df['Takers']\n",
    "Income = df['Income']\n",
    "Years = df['Years']\n",
    "Public = df['Public']\n",
    "Expen = df['Expend']\n",
    "Rank = df['Rank']\n",
    "\n",
    "\n",
    "def interpret(sig_level, p_value):\n",
    "    if p > sig_level:\n",
    "        print('Sample looks Gaussian (fail to reject H0)')\n",
    "    else:\n",
    "        print('Sample does not look Gaussian (reject H0)')\n",
    "\n"
   ]
  },
  {
   "cell_type": "code",
   "execution_count": 27,
   "metadata": {},
   "outputs": [
    {
     "data": {
      "text/plain": [
       "(array([  1.,   2.,   5.,  12.,   3.,   3.,  11.,   7.,   3.,   3.]),\n",
       " array([  790. ,   819.8,   849.6,   879.4,   909.2,   939. ,   968.8,\n",
       "          998.6,  1028.4,  1058.2,  1088. ]),\n",
       " <a list of 10 Patch objects>)"
      ]
     },
     "execution_count": 27,
     "metadata": {},
     "output_type": "execute_result"
    },
    {
     "data": {
      "image/png": "[encoded data removed]",
      "text/plain": [
       "<Figure size 432x288 with 1 Axes>"
      ]
     },
     "metadata": {},
     "output_type": "display_data"
    }
   ],
   "source": [
    "plt.hist(SAT)"
   ]
  },
  {
   "cell_type": "code",
   "execution_count": 25,
   "metadata": {},
   "outputs": [
    {
     "name": "stdout",
     "output_type": "stream",
     "text": [
      "Statistics=0.969, p=0.218\n"
     ]
    }
   ],
   "source": [
    "## using Shapiro-Wilk Test\n",
    "stat, p = shapiro(SAT)\n",
    "print('Statistics=%.3f, p=%.3f' % (stat, p))"
   ]
  },
  {
   "cell_type": "code",
   "execution_count": 26,
   "metadata": {},
   "outputs": [
    {
     "name": "stdout",
     "output_type": "stream",
     "text": [
      "Sample looks Gaussian (fail to reject H0)\n"
     ]
    }
   ],
   "source": [
    "# Adopt h1 if p more than 0.05 significance level.\n",
    "interpret(0.05, p)"
   ]
  },
  {
   "cell_type": "code",
   "execution_count": null,
   "metadata": {},
   "outputs": [],
   "source": []
  },
  {
   "cell_type": "code",
   "execution_count": null,
   "metadata": {},
   "outputs": [],
   "source": []
  }
 ],
 "metadata": {
  "kernelspec": {
   "display_name": "Python 3",
   "language": "python",
   "name": "python3"
  },
  "language_info": {
   "codemirror_mode": {
    "name": "ipython",
    "version": 3
   },
   "file_extension": ".py",
   "mimetype": "text/x-python",
   "name": "python",
   "nbconvert_exporter": "python",
   "pygments_lexer": "ipython3",
   "version": "3.6.6"
  }
 },
 "nbformat": 4,
 "nbformat_minor": 2
}
